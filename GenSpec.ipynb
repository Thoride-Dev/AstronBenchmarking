{
 "cells": [
  {
   "cell_type": "markdown",
   "id": "1eee41fe",
   "metadata": {},
   "source": [
    "## A sketch of the code benchmarking problem\n",
    "\n",
    "Here we rough out a few necessary components for spectrum synthesis.\n",
    "\n",
    "Lots of this will be done in pure python.  A few operations are done\n",
    "with numpy if they are done only once.  It is the operations that are\n",
    "done repeatedly that are the best candidates for code improvments.\n",
    "\n",
    "Even without going all the way to C++, it would be good to replace\n",
    "some pure python operations with numpy array functions and see how\n",
    "much that improves things."
   ]
  },
  {
   "cell_type": "code",
   "execution_count": 1,
   "id": "9fee6eb7",
   "metadata": {},
   "outputs": [],
   "source": [
    "# Get packages\n",
    "import matplotlib.pyplot as plt\n",
    "import numpy as np"
   ]
  },
  {
   "cell_type": "code",
   "execution_count": 2,
   "id": "0e382890",
   "metadata": {},
   "outputs": [],
   "source": [
    "# Specify needed items.\n",
    "\n",
    "# Start, end wavelength for the spectrum and number of points\n",
    "startw = 900.       # Angstroms\n",
    "finalw = 2900.\n",
    "nspect = 2048\n",
    "\n",
    "# Number of lines in the spectrum model\n",
    "nlines = 10\n",
    "\n",
    "# Width of each line in gaussian sigma, in Angstroms\n",
    "lsigma = 4.0\n",
    "\n",
    "# Width of halfnormal distribution.  We use a halfnormal distribution\n",
    "# of line depths so most are near zero and only a few are much larger.\n",
    "halfsig = 0.1"
   ]
  },
  {
   "cell_type": "code",
   "execution_count": 3,
   "id": "4c5ddae7",
   "metadata": {},
   "outputs": [],
   "source": [
    "# Generate a wavelength list for the spectrum.\n",
    "wavels = np.linspace(startw, finalw, nspect, endpoint=True)"
   ]
  },
  {
   "cell_type": "markdown",
   "id": "7926ea84",
   "metadata": {},
   "source": [
    "### We need a list of wavelengths and line depths in order to synthesize a spectrum."
   ]
  },
  {
   "cell_type": "code",
   "execution_count": 4,
   "id": "05935758",
   "metadata": {},
   "outputs": [
    {
     "name": "stdout",
     "output_type": "stream",
     "text": [
      "[0.07938276 0.06776436 0.088587   0.02135327 0.07476835 0.02690323\n",
      " 0.20364813 0.05843925 0.01132232 0.16261259]\n",
      "[2250.27841628 2357.23023324 1861.13975895 2256.37102255 2383.98764788\n",
      " 2122.55562652 1872.10203058 2084.07604828 1929.27410032 2743.82804873]\n"
     ]
    }
   ],
   "source": [
    "# Generate list of line depths and fix up so none are > 1.0\n",
    "# We want the absolute value of a normal distribution\n",
    "\n",
    "depths = np.absolute(np.random.normal(0.0, halfsig, nlines))\n",
    "depths[depths > 1.0] = 1.0\n",
    "print(depths)\n",
    "\n",
    "# Generate a list of line wavelengths, which we take as\n",
    "# uniformly distributed over the spectrum\n",
    "lwaves = np.random.uniform(startw, finalw, nlines)\n",
    "print(lwaves)\n"
   ]
  },
  {
   "cell_type": "markdown",
   "id": "5956bdce",
   "metadata": {},
   "source": [
    "### We start with a blank spectrum, then add on a series of lines."
   ]
  },
  {
   "cell_type": "code",
   "execution_count": 5,
   "id": "2f7319bd",
   "metadata": {},
   "outputs": [],
   "source": [
    "# Function to return an I/Io spectrum, meaning a spectrum normalized so\n",
    "# the continuum is 1 everywhere.\n",
    "def blankspec(npts):\n",
    "    \"\"\"\n",
    "    docstring here\n",
    "    \"\"\"\n",
    "    B = [1.0 for n in range(npts)]\n",
    "    return B"
   ]
  },
  {
   "cell_type": "code",
   "execution_count": 9,
   "id": "e73bcb8f",
   "metadata": {},
   "outputs": [],
   "source": [
    "# Gauss function\n",
    "from numpy import exp\n",
    "def gauss(w, cent, depth, sigma):\n",
    "    \"\"\"\n",
    "    docstring here\n",
    "    \"\"\"\n",
    "    gval = -depth * exp(-(w - cent)**2 / 2.0 / sigma**2)\n",
    "    return gval"
   ]
  },
  {
   "cell_type": "code",
   "execution_count": 7,
   "id": "522dda17",
   "metadata": {},
   "outputs": [],
   "source": [
    "# Test with a single line\n",
    "linecenter = 2023.9\n",
    "linedepth  = 0.4\n",
    "\n",
    "blank = blankspec(nspect)\n",
    "spect = []\n",
    "for k in range(len(wavels)):\n",
    "    w = wavels[k]\n",
    "    d = gauss(w, linecenter, linedepth, lsigma)\n",
    "    s = blank[k] + d\n",
    "    spect.append(s)"
   ]
  },
  {
   "cell_type": "code",
   "execution_count": 8,
   "id": "814d48c8",
   "metadata": {},
   "outputs": [
    {
     "data": {
      "text/plain": [
       "Text(0, 0.5, 'Spectrum')"
      ]
     },
     "execution_count": 8,
     "metadata": {},
     "output_type": "execute_result"
    },
    {
     "data": {
      "image/png": "[encoded data removed]",
      "text/plain": [
       "<Figure size 640x480 with 1 Axes>"
      ]
     },
     "metadata": {},
     "output_type": "display_data"
    }
   ],
   "source": [
    "fig, ax = plt.subplots()\n",
    "ax.plot(wavels, spect, 'blue')\n",
    "ax.set_xlabel('Wavelength (Angstrom)')\n",
    "ax.set_ylabel('Spectrum')"
   ]
  },
  {
   "cell_type": "markdown",
   "id": "1d684767",
   "metadata": {},
   "source": [
    "### How to make a full spectrum.\n",
    "\n",
    "For each line in the line list:\n",
    "- Generate a spectrum with a single line. If there are N lines in the list, you get N spectra.\n",
    "- Multiply all these together."
   ]
  }
 ],
 "metadata": {
  "kernelspec": {
   "display_name": "Python 3 (ipykernel)",
   "language": "python",
   "name": "python3"
  },
  "language_info": {
   "codemirror_mode": {
    "name": "ipython",
    "version": 3
   },
   "file_extension": ".py",
   "mimetype": "text/x-python",
   "name": "python",
   "nbconvert_exporter": "python",
   "pygments_lexer": "ipython3",
   "version": "3.8.8"
  }
 },
 "nbformat": 4,
 "nbformat_minor": 5
}
